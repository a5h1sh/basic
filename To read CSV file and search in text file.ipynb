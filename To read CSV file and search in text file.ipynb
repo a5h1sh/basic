{
  "nbformat": 4,
  "nbformat_minor": 0,
  "metadata": {
    "colab": {
      "name": "Untitled7.ipynb",
      "provenance": [],
      "machine_shape": "hm"
    },
    "kernelspec": {
      "name": "python3",
      "display_name": "Python 3"
    },
    "language_info": {
      "name": "python"
    }
  },
  "cells": [
    {
      "cell_type": "code",
      "source": [
        "pip install pandas==1.3.5"
      ],
      "metadata": {
        "colab": {
          "base_uri": "https://localhost:8080/",
          "height": 329
        },
        "id": "a73MgUR7NH9T",
        "outputId": "0979be80-8243-4c5a-a5aa-362804dc3d11"
      },
      "execution_count": null,
      "outputs": [
        {
          "output_type": "stream",
          "name": "stdout",
          "text": [
            "Collecting pandas==1.3.5\n",
            "  Downloading pandas-1.3.5-cp37-cp37m-manylinux_2_17_x86_64.manylinux2014_x86_64.whl (11.3 MB)\n",
            "\u001b[K     |████████████████████████████████| 11.3 MB 13.8 MB/s \n",
            "\u001b[?25hRequirement already satisfied: numpy>=1.17.3 in /usr/local/lib/python3.7/dist-packages (from pandas==1.3.5) (1.21.5)\n",
            "Requirement already satisfied: python-dateutil>=2.7.3 in /usr/local/lib/python3.7/dist-packages (from pandas==1.3.5) (2.8.2)\n",
            "Requirement already satisfied: pytz>=2017.3 in /usr/local/lib/python3.7/dist-packages (from pandas==1.3.5) (2018.9)\n",
            "Requirement already satisfied: six>=1.5 in /usr/local/lib/python3.7/dist-packages (from python-dateutil>=2.7.3->pandas==1.3.5) (1.15.0)\n",
            "Installing collected packages: pandas\n",
            "  Attempting uninstall: pandas\n",
            "    Found existing installation: pandas 1.2.1\n",
            "    Uninstalling pandas-1.2.1:\n",
            "      Successfully uninstalled pandas-1.2.1\n",
            "Successfully installed pandas-1.3.5\n"
          ]
        },
        {
          "output_type": "display_data",
          "data": {
            "application/vnd.colab-display-data+json": {
              "pip_warning": {
                "packages": [
                  "pandas"
                ]
              }
            }
          },
          "metadata": {}
        }
      ]
    },
    {
      "cell_type": "code",
      "execution_count": null,
      "metadata": {
        "id": "5hCaEXH4MXNn"
      },
      "outputs": [],
      "source": [
        "import pandas as pd"
      ]
    },
    {
      "cell_type": "code",
      "source": [
        "import csv\n",
        "#path = \n",
        "df = pd.read_csv(\"Medical _Terms.csv\", header=[1,2,3], delimiter=\"\\n\", quoting=csv.QUOTE_NONE, encoding='utf-8')\n",
        "print(df.head)\n",
        "#Med_Term=list(df.head )\n",
        "#z = range(len(Med_Term))"
      ],
      "metadata": {
        "id": "102LAz7wMrNK",
        "colab": {
          "base_uri": "https://localhost:8080/"
        },
        "outputId": "9d7fdd66-a134-4f59-b8d6-fc9628f3d37f"
      },
      "execution_count": null,
      "outputs": [
        {
          "output_type": "stream",
          "name": "stdout",
          "text": [
            "<bound method NDFrame.head of                                                                                                   A00,Cholera,Cholera,N/A,N/A,N/A,Publish,,Active,1-Oct-15,,,,,I,Certain infectious and parasitic diseases ,Intestinal infectious diseases ,A00-A09,0,\n",
            "      A00.0,\"Cholera Due To Vibrio Cholerae 01, Biovar Cholerae\",\"Cholera Due To Vibrio Cholerae 01, Biovar Cholerae\",N/A,N/A,N/A,Publish,,Active,1-Oct-15,,,,,C,Certain infectious and parasitic diseases ,Intestinal infectious diseases ,A00-A09,0,\n",
            "            A00.1,\"Cholera Due To Vibrio Cholerae 01, Biovar Eltor\",\"Cholera Due To Vibrio Cholerae 01, Biovar Eltor\",N/A,N/A,N/A,Publish,,Active,1-Oct-15,,,,,C,Certain infectious and parasitic diseases ,Intestinal infectious diseases ,A00-A09,0,\n",
            "0      A00.9,\"Cholera, Unspecified\",\"Cholera, Unspeci...                                                                                                                                                                                              \n",
            "1      A01,Typhoid And Paratyphoid Fevers,Typhoid And...                                                                                                                                                                                              \n",
            "2      A01.0,Typhoid Fever,Typhoid Fever,N/A,N/A,N/A,...                                                                                                                                                                                              \n",
            "3      A01.00,\"Typhoid Fever, Unspecified\",\"Typhoid F...                                                                                                                                                                                              \n",
            "4      A01.01,Typhoid Meningitis,Typhoid Meningitis,N...                                                                                                                                                                                              \n",
            "...                                                  ...                                                                                                                                                                                              \n",
            "95541  Z99.2,Dependence On Renal Dialysis,Dependence ...                                                                                                                                                                                              \n",
            "95542  Z99.3,Dependence On Wheelchair,Dependence On W...                                                                                                                                                                                              \n",
            "95543  Z99.8,Dependence On Other Enabling Machines An...                                                                                                                                                                                              \n",
            "95544  Z99.81,Dependence On Supplemental Oxygen,Depen...                                                                                                                                                                                              \n",
            "95545  Z99.89,Dependence On Other Enabling Machines A...                                                                                                                                                                                              \n",
            "\n",
            "[95546 rows x 1 columns]>\n"
          ]
        }
      ]
    },
    {
      "cell_type": "code",
      "source": [
        "f = open(\"Case 41.txt\", \"r\")\n",
        "test=f.readlines()\n",
        "print(test[1])"
      ],
      "metadata": {
        "colab": {
          "base_uri": "https://localhost:8080/"
        },
        "id": "Kutc_rcHqyn_",
        "outputId": "b74a2fee-5c54-43ac-f068-425cecd433cc"
      },
      "execution_count": null,
      "outputs": [
        {
          "output_type": "stream",
          "name": "stdout",
          "text": [
            "Quiet is it 55 your old female with a 20 year history of multiple sclerosis. Client admitted to the hospital june 29th after a fall at home due to weakness. Client hospitalized for treatment of urinary tract infection. Before hospitalization client was independent with self catheterization five to six times per day. Upon didcharge client was  still weak and unable to perform self cath therefore decision was made to leave foley catheter in and client to follow up with primary care physician regarding discontinuation of catheter. Client is able to transfer her self to and from her scooter but is non ambulatory. Client lives with her young adult son who assists with a dl's but has been having an increased difficulty in managing his mother's care. Client also has another son and daughter who do not live in town and also has an ex husband who also assists. Client requesting social work consult to assist with long-term planning and application to medicaid. Client agreeable to skilled nursing, pt, ot and home health aide to assist with adls until client is back to her baseline\n",
            "\n"
          ]
        }
      ]
    },
    {
      "cell_type": "code",
      "source": [
        "for i in test:\n",
        "  test2=i.split()\n",
        "  m=range(len(test2))\n",
        "  for k in m:\n",
        "    for j in z:\n",
        "      if(Med_Term[j]==test2[k]):\n",
        "        print(Med_Term[j])\n",
        "        \n",
        "  \n",
        "\n",
        "\n"
      ],
      "metadata": {
        "colab": {
          "base_uri": "https://localhost:8080/"
        },
        "id": "xHoFMx34robJ",
        "outputId": "c1301e0c-031e-467d-bc3e-c6b7dcd5d3c4"
      },
      "execution_count": null,
      "outputs": [
        {
          "output_type": "stream",
          "name": "stdout",
          "text": [
            "fall\n",
            "urinary\n",
            "catheterization\n",
            "weak\n",
            "cath\n",
            "catheter\n",
            "adult\n",
            "increased\n",
            "difficulty\n",
            "health\n",
            "back\n",
            "uti\n",
            "sepsis\n",
            "neurogenic\n",
            "bladder\n",
            "sclerosis\n",
            "weakness\n",
            "fatigue\n",
            "adult\n",
            "illness\n",
            "pt\n",
            "fell\n",
            "swallowing\n",
            "fluids\n",
            "term\n",
            "pt\n",
            "cath\n",
            "neuro\n",
            "medicine\n",
            "discharge\n",
            "cath\n",
            "leg\n",
            "cath\n",
            "leg\n",
            "spastic\n",
            "neurogenic\n",
            "spastic\n",
            "paraplegia\n",
            "weakness\n",
            "pt\n",
            "paraplegia\n",
            "discharge\n",
            "medication\n",
            "evaluate\n",
            "conditions\n",
            "including\n",
            "urine\n",
            "retention\n",
            "conditions\n",
            "themselves\n",
            "urinary\n",
            "catheter\n",
            "including\n",
            "symptoms\n",
            "perineal\n",
            "neurological\n",
            "neurological\n",
            "including\n",
            "medication\n",
            "neurological\n",
            "therapist\n",
            "evaluate\n",
            "physical\n",
            "therapy\n",
            "evaluate\n",
            "structural\n",
            "functional\n",
            "physical\n",
            "therapy\n",
            "symptoms\n",
            "respiratory\n",
            "complications\n",
            "therapist\n",
            "evaluate\n",
            "physical\n",
            "psychosocial\n",
            "o2\n",
            "symptoms\n",
            "respiratory\n",
            "complications\n",
            "o2\n",
            "emotional\n",
            "followed\n",
            "health\n",
            "functional\n",
            "fall\n",
            "fall\n",
            "skin\n",
            "integrity\n",
            "including\n",
            "medication\n",
            "pressure\n",
            "urinary\n",
            "infection\n",
            "weakness\n",
            "adult\n",
            "adult\n",
            "weak\n",
            "diagnosed\n",
            "urinary\n",
            "infection\n",
            "catheterization\n",
            "discharge\n",
            "weak\n",
            "cath\n",
            "catheter\n",
            "urology\n",
            "back\n",
            "difficulty\n",
            "catheter\n",
            "catheter\n",
            "urine\n",
            "retention\n",
            "infection\n",
            "catheter\n",
            "peri\n",
            "catheter\n",
            "leg\n",
            "leg\n",
            "leg\n",
            "leg\n",
            "down\n",
            "reflux\n",
            "urine\n",
            "back\n",
            "health\n"
          ]
        }
      ]
    },
    {
      "cell_type": "code",
      "source": [
        "for i in test:\n",
        "  for j in z:\n",
        "    #print(i)\n",
        "    if ( i in Med_Term[j]):\n",
        "      print(Med_Term[j])"
      ],
      "metadata": {
        "id": "-BTIzvowwTCY"
      },
      "execution_count": null,
      "outputs": []
    }
  ]
}
